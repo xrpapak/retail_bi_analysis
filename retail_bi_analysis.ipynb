{
 "cells": [
  {
   "cell_type": "markdown",
   "id": "0b192f4e",
   "metadata": {},
   "source": [
    "# Retail BI Case Study\n",
    "This notebook demonstrates how to analyze a small simulated retail dataset using pandas and matplotlib."
   ]
  },
  {
   "cell_type": "code",
   "execution_count": null,
   "id": "a511b1b2",
   "metadata": {},
   "outputs": [],
   "source": [
    "import pandas as pd\n",
    "import matplotlib.pyplot as plt\n",
    "import numpy as np\n",
    "\n",
    "# Load CSVs\n",
    "customers_df = pd.read_csv(\"Customers - Customers.csv\")\n",
    "orders_df = pd.read_csv(\"Customers - Orders.csv\")\n",
    "products_df = pd.read_csv(\"Customers - Products.csv\")"
   ]
  },
  {
   "cell_type": "code",
   "execution_count": null,
   "id": "80142f4d",
   "metadata": {},
   "outputs": [],
   "source": [
    "# Convert OrderDate to datetime\n",
    "orders_df['OrderDate'] = pd.to_datetime(orders_df['OrderDate'], dayfirst=True)\n",
    "\n",
    "# Merge all data\n",
    "orders_customers = orders_df.merge(customers_df, on=\"CustomerID\")\n",
    "full_data = orders_customers.merge(products_df, on=\"ProductID\")"
   ]
  },
  {
   "cell_type": "code",
   "execution_count": null,
   "id": "8393a067",
   "metadata": {},
   "outputs": [],
   "source": [
    "daily_trend = orders_df.groupby('OrderDate')['OrderValue'].sum().reset_index()\n",
    "\n",
    "plt.figure(figsize=(10, 5))\n",
    "plt.plot(daily_trend['OrderDate'], daily_trend['OrderValue'], marker='o', color='steelblue')\n",
    "plt.title('Daily Order Value Trend')\n",
    "plt.xlabel('Order Date')\n",
    "plt.ylabel('Total Order Value (€)')\n",
    "plt.grid(True)\n",
    "plt.xticks(rotation=45)\n",
    "plt.tight_layout()\n",
    "plt.show()"
   ]
  },
  {
   "cell_type": "code",
   "execution_count": null,
   "id": "04fc288b",
   "metadata": {},
   "outputs": [],
   "source": [
    "segment_summary = orders_df.merge(customers_df, on=\"CustomerID\").groupby('Name')['OrderValue'].sum().reset_index().sort_values(by='OrderValue')\n",
    "\n",
    "colors = plt.cm.viridis(np.linspace(0, 1, len(segment_summary)))\n",
    "plt.figure(figsize=(10, 6))\n",
    "plt.barh(segment_summary['Name'], segment_summary['OrderValue'], color=colors)\n",
    "plt.title('Total Order Value by Customer')\n",
    "plt.xlabel('Order Value (€)')\n",
    "plt.tight_layout()\n",
    "plt.show()"
   ]
  },
  {
   "cell_type": "code",
   "execution_count": null,
   "id": "4b1f6a66",
   "metadata": {},
   "outputs": [],
   "source": [
    "product_sales = orders_df.merge(products_df, on=\"ProductID\")\n",
    "summary = product_sales.groupby('ProductName')['OrderValue'].sum().reset_index().sort_values(by='OrderValue', ascending=False)\n",
    "\n",
    "colors = plt.cm.tab10(np.linspace(0, 1, len(summary)))\n",
    "plt.figure(figsize=(10, 6))\n",
    "plt.bar(summary['ProductName'], summary['OrderValue'], color=colors)\n",
    "plt.title('Total Sales by Product')\n",
    "plt.ylabel('Order Value (€)')\n",
    "plt.xlabel('Product')\n",
    "plt.xticks(rotation=30)\n",
    "plt.tight_layout()\n",
    "plt.show()"
   ]
  }
 ],
 "metadata": {},
 "nbformat": 4,
 "nbformat_minor": 5
}
